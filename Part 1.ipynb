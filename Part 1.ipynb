{
 "cells": [
  {
   "cell_type": "code",
   "execution_count": 1,
   "id": "c420f94d",
   "metadata": {},
   "outputs": [],
   "source": [
    "from tqdm import tqdm\n",
    "import time\n",
    "import pandas as pd\n",
    "import numpy as np\n",
    "import matplotlib as mpl\n",
    "import matplotlib.pyplot as plt\n",
    "import seaborn as sns\n",
    "import os, glob\n",
    "#import tick customization tools\n",
    "import matplotlib.ticker as mticks\n",
    "import matplotlib.dates as mdates\n",
    "## Setting figures to timeseries-friendly\n",
    "plt.rcParams['figure.figsize'] = (12,4)\n",
    "plt.rcParams['figure.facecolor'] = 'white'\n",
    "sns.set_context(\"talk\", font_scale=0.9)\n",
    "# set random seed\n",
    "SEED = 321\n",
    "np.random.seed(SEED)\n",
    "#display more columns\n",
    "pd.set_option('display.max_columns',50)\n",
    "\n"
   ]
  },
  {
   "cell_type": "markdown",
   "id": "bf0f2cb4",
   "metadata": {},
   "source": [
    "# Loading Data"
   ]
  },
  {
   "cell_type": "code",
   "execution_count": null,
   "id": "121e6126",
   "metadata": {},
   "outputs": [],
   "source": [
    "folder = \"Data/Chicago/\"\n",
    "crime_files = sorted(glob.glob(folder+\"*.csv\"))\n",
    "chicago_df = pd.concat([pd.read_csv(f) for f in crime_files])\n",
    "chicago_df"
   ]
  },
  {
   "cell_type": "markdown",
   "id": "91c3ddd6",
   "metadata": {},
   "source": [
    "# Chicago Dataframe"
   ]
  },
  {
   "cell_type": "code",
   "execution_count": null,
   "id": "267fad99",
   "metadata": {},
   "outputs": [],
   "source": [
    "chicago_df.isna().sum()"
   ]
  },
  {
   "cell_type": "code",
   "execution_count": null,
   "id": "8e6ec783",
   "metadata": {},
   "outputs": [],
   "source": [
    "chicago_df.dropna(inplace = True)\n",
    "chicago_df"
   ]
  },
  {
   "cell_type": "code",
   "execution_count": null,
   "id": "b62a7147",
   "metadata": {},
   "outputs": [],
   "source": [
    "chicago_df['Datetime'] = pd.to_datetime(chicago_df['Date'], format=\"%m/%d/%Y %H:%M:%S %p\")\n",
    "chicago_df = chicago_df.sort_values('Datetime')\n",
    "chicago_df = chicago_df.set_index('Datetime')\n",
    "chicago_df.info()\n",
    "chicago_df.head()"
   ]
  },
  {
   "cell_type": "markdown",
   "id": "54b62eaa",
   "metadata": {},
   "source": [
    "## Holiday Dataframe"
   ]
  },
  {
   "cell_type": "code",
   "execution_count": null,
   "id": "9ec160ec",
   "metadata": {},
   "outputs": [],
   "source": [
    "crime_files = sorted(glob.glob(\"Data/\"+\"*.csv\"))\n",
    "holiday_df = pd.concat([pd.read_csv(f) for f in crime_files])\n",
    "holiday_df"
   ]
  },
  {
   "cell_type": "code",
   "execution_count": null,
   "id": "1334959d",
   "metadata": {},
   "outputs": [],
   "source": [
    "# nulls\n",
    "holiday_df.isna().sum()"
   ]
  },
  {
   "cell_type": "code",
   "execution_count": null,
   "id": "fb8f3e85",
   "metadata": {},
   "outputs": [],
   "source": [
    "holiday_df.dropna(inplace = True)\n",
    "holiday_df.drop(columns = [\"State Holidays\"], inplace = True)\n",
    "holiday_df"
   ]
  },
  {
   "cell_type": "code",
   "execution_count": null,
   "id": "e3917673",
   "metadata": {},
   "outputs": [],
   "source": [
    "!pip install holidays"
   ]
  },
  {
   "cell_type": "code",
   "execution_count": null,
   "id": "3027a409",
   "metadata": {},
   "outputs": [],
   "source": [
    "import holidays\n",
    "import datetime as dt\n",
    "from holidays import country_holidays"
   ]
  },
  {
   "cell_type": "code",
   "execution_count": null,
   "id": "d7068224",
   "metadata": {},
   "outputs": [],
   "source": [
    "## making a date range that covers full dataset\n",
    "all_days = pd.date_range(chicago_df[\"Date\"].min(), chicago_df[\"Date\"].max())\n",
    "all_days\n",
    "\n"
   ]
  },
  {
   "cell_type": "code",
   "execution_count": null,
   "id": "1df48825",
   "metadata": {},
   "outputs": [],
   "source": [
    "## Create an instance of the US country holidays.\n",
    "us_holidays = country_holidays('US')\n",
    "us_holidays"
   ]
  },
  {
   "cell_type": "code",
   "execution_count": null,
   "id": "744500f7",
   "metadata": {},
   "outputs": [],
   "source": [
    "## Testing first date\n",
    "print(all_days[0])\n",
    "us_holidays.get(all_days[0])"
   ]
  },
  {
   "cell_type": "code",
   "execution_count": null,
   "id": "188116e8",
   "metadata": {},
   "outputs": [],
   "source": [
    "## Getting us holidays for all dates\n",
    "holiday_list = [us_holidays.get(day) for day in all_days]\n",
    "holiday_list[:5]"
   ]
  },
  {
   "cell_type": "code",
   "execution_count": null,
   "id": "65948f1b",
   "metadata": {},
   "outputs": [],
   "source": [
    "# For a specific subdivisions (e.g. state or province):\n",
    "co_holidays = country_holidays('US', subdiv='CO')\n",
    "co_holidays"
   ]
  },
  {
   "cell_type": "code",
   "execution_count": null,
   "id": "c99629c8",
   "metadata": {},
   "outputs": [],
   "source": [
    "## Saving both holiday types as columns\n",
    "chicago_df[\"US Holiday\"] = [us_holidays.get(day) for day in chicago_df['Date']]\n",
    "chicago_df['CO Holiday'] = [co_holidays.get(day) for day in chicago_df['Date']]\n",
    "chicago_df.head()"
   ]
  },
  {
   "cell_type": "code",
   "execution_count": null,
   "id": "f49a490e",
   "metadata": {},
   "outputs": [],
   "source": [
    "## US Holidays\n",
    "chicago_df['US Holiday'].value_counts()"
   ]
  },
  {
   "cell_type": "code",
   "execution_count": null,
   "id": "8a71cc30",
   "metadata": {},
   "outputs": [],
   "source": [
    "## MD Holidays\n",
    "chicago_df['CO Holiday'].value_counts()"
   ]
  },
  {
   "cell_type": "code",
   "execution_count": null,
   "id": "6be87b74",
   "metadata": {},
   "outputs": [],
   "source": [
    "ax = sns.barplot(data= chicago_dfgo_df, x='US Holiday',y='Total_Incidents',estimator=np.sum)\n",
    "ax.set_xticklabels(ax.get_xticklabels(),rotation=45, ha='right');"
   ]
  },
  {
   "cell_type": "code",
   "execution_count": null,
   "id": "5a2da5c2",
   "metadata": {},
   "outputs": [],
   "source": []
  },
  {
   "cell_type": "code",
   "execution_count": null,
   "id": "cfe88109",
   "metadata": {},
   "outputs": [],
   "source": []
  },
  {
   "cell_type": "markdown",
   "id": "9a794882",
   "metadata": {},
   "source": [
    "# Resampled Dataframe"
   ]
  },
  {
   "cell_type": "code",
   "execution_count": null,
   "id": "dd655bc1",
   "metadata": {},
   "outputs": [],
   "source": [
    "## Creating a Total # of Crimes\n",
    "# getting list of  unique crime descriptions\n",
    "crime_list = chicago_df['Description'].unique()\n",
    "crime_list"
   ]
  },
  {
   "cell_type": "code",
   "execution_count": null,
   "id": "77c8d194",
   "metadata": {},
   "outputs": [],
   "source": [
    "# Creating an empty dictionary  \n",
    "CRIMES = {}\n",
    "# 3. Loop through the list of crimes\n",
    "for crime in crime_list:\n",
    "    # I. Save a temp df of just the rows that match the crime\n",
    "   temp = chicago_df.loc[chicago_df['Description']==crime].copy()\n",
    "    # II. Resample the temp DataFrame as Daily data (crime counts) \n",
    "    # and keep ONLY the .size() \n",
    "   temp_res = temp.resample(\"D\").size() \n",
    "   #III. Save the temporary DataFrame in the dictionary,\n",
    "   #using the crime description as the key.\n",
    "   CRIMES[crime] = temp_res.copy() \n",
    "CRIMES.keys()"
   ]
  },
  {
   "cell_type": "code",
   "execution_count": null,
   "id": "0430c4b5",
   "metadata": {},
   "outputs": [],
   "source": [
    "resampled_df = pd.DataFrame(CRIMES)\n",
    "resampled_df"
   ]
  },
  {
   "cell_type": "code",
   "execution_count": null,
   "id": "775e7179",
   "metadata": {},
   "outputs": [],
   "source": [
    "## saving to disk\n",
    "resampled_df.to_csv(\"Data/Chicago/Chicago_crime_counts.csv\")"
   ]
  },
  {
   "cell_type": "code",
   "execution_count": null,
   "id": "e759ea1d",
   "metadata": {},
   "outputs": [],
   "source": [
    "chicago_df.groupby(\"Description\").size().head()"
   ]
  },
  {
   "cell_type": "code",
   "execution_count": null,
   "id": "7ae41550",
   "metadata": {},
   "outputs": [],
   "source": [
    "# II. Resample the temp DataFrame as Daily data (crime counts)\n",
    "# and keep ONLY the .size()\n",
    "temp_res = temp.resample(\"D\").size()\n",
    "temp_res\n",
    "\n",
    "\n"
   ]
  },
  {
   "cell_type": "code",
   "execution_count": null,
   "id": "062c158d",
   "metadata": {},
   "outputs": [],
   "source": [
    "## testing our saved data\n",
    "resampled_df = pd.read_csv(\"Data/Chicago/Chicago_crime_counts.csv\", parse_dates=['Datetime'], index_col=0)\n",
    "resampled_df"
   ]
  },
  {
   "cell_type": "code",
   "execution_count": null,
   "id": "e84d2a7a",
   "metadata": {},
   "outputs": [],
   "source": [
    "resampled_df = resampled_df.resample('D').asfreq()\n",
    "resampled_df.head(3)\n"
   ]
  },
  {
   "cell_type": "code",
   "execution_count": null,
   "id": "41773cd4",
   "metadata": {},
   "outputs": [],
   "source": [
    "ts0 = resampled_df.index[0]\n",
    "ts0"
   ]
  },
  {
   "cell_type": "code",
   "execution_count": null,
   "id": "277a3947",
   "metadata": {},
   "outputs": [],
   "source": [
    "# checking the documentation for astimezone\n",
    "ts0.astimezone?"
   ]
  },
  {
   "cell_type": "code",
   "execution_count": null,
   "id": "ff05fb03",
   "metadata": {},
   "outputs": [],
   "source": []
  },
  {
   "cell_type": "markdown",
   "id": "b0e12d36",
   "metadata": {},
   "source": [
    "# "
   ]
  },
  {
   "cell_type": "code",
   "execution_count": null,
   "id": "9e7b43e1",
   "metadata": {},
   "outputs": [],
   "source": [
    "## remove time zone from the dt index\n",
    "df = df.tz_convert(None)\n",
    "df.head(3)"
   ]
  },
  {
   "cell_type": "code",
   "execution_count": null,
   "id": "2b2584ce",
   "metadata": {},
   "outputs": [],
   "source": [
    "resampled_df.isna().sum()"
   ]
  },
  {
   "cell_type": "code",
   "execution_count": null,
   "id": "96b3d764",
   "metadata": {},
   "outputs": [],
   "source": [
    "## filling the null values with 0\n",
    "resampled_df = resampled_df.fillna(0)\n",
    "resampled_df\n",
    "\n"
   ]
  },
  {
   "cell_type": "markdown",
   "id": "3afdc6ac",
   "metadata": {},
   "source": [
    "# Q1: Which district has the most crimes? Which has the least?\n"
   ]
  },
  {
   "cell_type": "code",
   "execution_count": null,
   "id": "8cba822c",
   "metadata": {},
   "outputs": [],
   "source": [
    "df_ts = chicago_df.groupby('District').sum()\n",
    "df_ts"
   ]
  },
  {
   "cell_type": "code",
   "execution_count": null,
   "id": "651d105b",
   "metadata": {},
   "outputs": [],
   "source": []
  }
 ],
 "metadata": {
  "kernelspec": {
   "display_name": "Python (dojo-env)",
   "language": "python",
   "name": "dojo-env"
  },
  "language_info": {
   "codemirror_mode": {
    "name": "ipython",
    "version": 3
   },
   "file_extension": ".py",
   "mimetype": "text/x-python",
   "name": "python",
   "nbconvert_exporter": "python",
   "pygments_lexer": "ipython3",
   "version": "3.9.15"
  },
  "toc": {
   "base_numbering": 1,
   "nav_menu": {},
   "number_sections": false,
   "sideBar": true,
   "skip_h1_title": false,
   "title_cell": "Table of Contents",
   "title_sidebar": "Contents",
   "toc_cell": false,
   "toc_position": {},
   "toc_section_display": true,
   "toc_window_display": false
  }
 },
 "nbformat": 4,
 "nbformat_minor": 5
}
